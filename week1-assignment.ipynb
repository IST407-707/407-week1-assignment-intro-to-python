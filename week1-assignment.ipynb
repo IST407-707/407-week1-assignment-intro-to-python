{
 "cells": [
  {
   "cell_type": "markdown",
   "metadata": {},
   "source": [
    "# Introduction to Python for ML\n",
    "\n",
    "There are three sections in the following notebook.  Please complete them all!"
   ]
  },
  {
   "cell_type": "markdown",
   "metadata": {},
   "source": [
    "# Python Exercises\n",
    "\n",
    "The following provides a very brief introduction to some of the basics of Python. If any of this seems new, please work on your own to learn the basics.  W3Schools' [online python tutorial](https://www.w3schools.com/python/default.asp) is a great place to start.  Official documentation for python can be found [here](https://docs.python.org/3.10/). "
   ]
  },
  {
   "cell_type": "markdown",
   "metadata": {},
   "source": [
    "## Exercise 1: Loop Iteration\n",
    "\n",
    "A loop in Python is used to iterate over a sequence (like a list, tuple, or string) and execute a block of code for each item in the sequence. The for loop is one of the most common loops in Python.\n",
    "\n",
    "For example:"
   ]
  },
  {
   "cell_type": "code",
   "execution_count": 2,
   "metadata": {},
   "outputs": [
    {
     "name": "stdout",
     "output_type": "stream",
     "text": [
      "1\n",
      "2\n",
      "3\n",
      "4\n",
      "5\n",
      "6\n",
      "7\n",
      "8\n",
      "9\n",
      "10\n"
     ]
    }
   ],
   "source": [
    "# This is a loop from 1 to 10\n",
    "for i in range(1, 11):\n",
    "    print(i)"
   ]
  },
  {
   "cell_type": "markdown",
   "metadata": {},
   "source": [
    "### Task\n",
    "\n",
    "Create a loop that prints numbers from 0 to 20, counting by 2's.  **HINT**:  Look up the syntax of the [range](https://www.w3schools.com/python/ref_func_range.asp) function."
   ]
  },
  {
   "cell_type": "code",
   "execution_count": 4,
   "metadata": {},
   "outputs": [],
   "source": [
    "# Place your code here"
   ]
  },
  {
   "cell_type": "markdown",
   "metadata": {},
   "source": [
    "## Exercise 2: Define a Function\n",
    "\n",
    "In Python, a function is a reusable block of code that performs a specific task. You define a function using the def keyword, followed by the function name, parameters in parentheses, and a colon. The function body follows the colon and is indented.  You \"call\" a function, by typing the name of the function and putting an required parameters in parenthses.\n",
    "\n",
    "For example:"
   ]
  },
  {
   "cell_type": "code",
   "execution_count": 3,
   "metadata": {},
   "outputs": [
    {
     "data": {
      "text/plain": [
       "100"
      ]
     },
     "execution_count": 3,
     "metadata": {},
     "output_type": "execute_result"
    }
   ],
   "source": [
    "def square(num):\n",
    "    return num * num\n",
    "\n",
    "square(10)"
   ]
  },
  {
   "cell_type": "markdown",
   "metadata": {},
   "source": [
    "### Task\n",
    "\n",
    "Create a function that returns the sqaure root of a number.  **HINT**:  Look up how to use the [math library](https://www.w3schools.com/python/python_math.asp)."
   ]
  },
  {
   "cell_type": "code",
   "execution_count": null,
   "metadata": {},
   "outputs": [],
   "source": [
    "# Place your code here"
   ]
  },
  {
   "cell_type": "markdown",
   "metadata": {},
   "source": [
    "## Exercise 3: Import Libraries\n",
    "\n",
    "Libraries in Python are collections of functions and methods that allow you to perform many actions without writing much code. To use a library, you first have to import it using the import keyword.  If you did the previous assignment, you imported the `math` library. You can also give libraries an alias to make them easier to reference in your code.\n",
    "\n",
    "For example, `numpy` is a library containing many advanced mathematical routines.  Very often you will see it imported like this:"
   ]
  },
  {
   "cell_type": "code",
   "execution_count": 6,
   "metadata": {},
   "outputs": [
    {
     "data": {
      "text/plain": [
       "array([2., 3., 5.])"
      ]
     },
     "execution_count": 6,
     "metadata": {},
     "output_type": "execute_result"
    }
   ],
   "source": [
    "import numpy as np\n",
    "\n",
    "np.sqrt([4,9,25])"
   ]
  },
  {
   "cell_type": "markdown",
   "metadata": {},
   "source": [
    "### Task\n",
    "\n",
    "Import the scipy constants library and print out the speed of light.  **Hint** look at a tutorial on [scipy](https://www.w3schools.com/python/scipy/index.php). "
   ]
  },
  {
   "cell_type": "markdown",
   "metadata": {},
   "source": [
    "## Exercise 4: Working with Lists\n",
    "\n",
    "Lists are one of the most common data structures in Python. They are ordered, mutable (changeable), and allow duplicate members.\n",
    "\n",
    "For example, to create a list of numbers and append a new number:"
   ]
  },
  {
   "cell_type": "code",
   "execution_count": 7,
   "metadata": {},
   "outputs": [
    {
     "name": "stdout",
     "output_type": "stream",
     "text": [
      "[1, 2, 3, 4, 5, 6]\n"
     ]
    }
   ],
   "source": [
    "numbers = [1, 2, 3, 4, 5]\n",
    "numbers.append(6)\n",
    "print(numbers)"
   ]
  },
  {
   "cell_type": "markdown",
   "metadata": {},
   "source": [
    "### Task\n",
    "\n",
    "Create a list of fruits and add \"Grape\" to the list."
   ]
  },
  {
   "cell_type": "code",
   "execution_count": 15,
   "metadata": {},
   "outputs": [],
   "source": [
    "# Place code here"
   ]
  },
  {
   "cell_type": "markdown",
   "metadata": {},
   "source": [
    "## Exercise 5: Conditional Statements\n",
    "\n",
    "Conditional statements in Python allow you to perform different actions depending on whether a specified condition evaluates to true or false.\n",
    "\n",
    "Here's how you use an if-else statement to check if a number is even or odd:"
   ]
  },
  {
   "cell_type": "code",
   "execution_count": 8,
   "metadata": {},
   "outputs": [
    {
     "name": "stdout",
     "output_type": "stream",
     "text": [
      "Odd\n"
     ]
    }
   ],
   "source": [
    "num = 5\n",
    "if num % 2 == 0:\n",
    "    print(\"Even\")\n",
    "else:\n",
    "    print(\"Odd\")"
   ]
  },
  {
   "cell_type": "markdown",
   "metadata": {},
   "source": [
    "### Task\n",
    "\n",
    "Write a conditional statement to check if a number is positive, negative, or zero."
   ]
  },
  {
   "cell_type": "code",
   "execution_count": 9,
   "metadata": {},
   "outputs": [],
   "source": [
    "# Place code here"
   ]
  },
  {
   "cell_type": "markdown",
   "metadata": {},
   "source": [
    "## Exercise 6: Working with Dictionaries\n",
    "Dictionaries are key-value pairs where the value can be almost any Python object. They are unordered, changeable, and indexed by keys.\n",
    "\n",
    "To create a dictionary and access the value for a given key:"
   ]
  },
  {
   "cell_type": "code",
   "execution_count": 10,
   "metadata": {},
   "outputs": [
    {
     "name": "stdout",
     "output_type": "stream",
     "text": [
      "John\n"
     ]
    }
   ],
   "source": [
    "student = {\"name\": \"John\", \"age\": 25, \"course\": \"Computer Science\"}\n",
    "print(student[\"name\"])"
   ]
  },
  {
   "cell_type": "markdown",
   "metadata": {},
   "source": [
    "### Task \n",
    "\n",
    "Create a dictionary that represents a book with keys: \"title\", \"author\", and \"year_published\". Access and print the book's title."
   ]
  },
  {
   "cell_type": "code",
   "execution_count": 2,
   "metadata": {},
   "outputs": [],
   "source": [
    "# Place code here"
   ]
  },
  {
   "cell_type": "markdown",
   "metadata": {},
   "source": [
    "## Exercise 7: String Manipulation\n",
    "Strings in Python are arrays of bytes representing Unicode characters. Python has a set of built-in methods to manipulate strings.\n",
    "\n",
    "Here's how you can concatenate strings and change the case:"
   ]
  },
  {
   "cell_type": "code",
   "execution_count": 11,
   "metadata": {},
   "outputs": [
    {
     "name": "stdout",
     "output_type": "stream",
     "text": [
      "Hello, WORLD!\n"
     ]
    }
   ],
   "source": [
    "greeting = \"hello\"\n",
    "name = \"world\"\n",
    "message = greeting.capitalize() + \", \" + name.upper() + \"!\"\n",
    "print(message)"
   ]
  },
  {
   "cell_type": "markdown",
   "metadata": {},
   "source": [
    "### Task\n",
    "\n",
    "Take the string \"python is awesome\" and transform it to \"PYTHON IS AWESOME\".\n"
   ]
  },
  {
   "cell_type": "code",
   "execution_count": 3,
   "metadata": {},
   "outputs": [],
   "source": [
    "# Place code here"
   ]
  },
  {
   "cell_type": "markdown",
   "metadata": {},
   "source": [
    "## Exercise 9: List Comprehensions\n",
    "List comprehensions provide a concise way to create lists. They can be used to create a new list by performing some operation on each item in an existing list (or other iterable).\n",
    "\n",
    "Here's how you can create a list of squares for numbers from 1 to 5:"
   ]
  },
  {
   "cell_type": "code",
   "execution_count": 13,
   "metadata": {},
   "outputs": [
    {
     "name": "stdout",
     "output_type": "stream",
     "text": [
      "[1, 4, 9, 16, 25]\n"
     ]
    }
   ],
   "source": [
    "squares = [x**2 for x in range(1, 6)]\n",
    "print(squares)"
   ]
  },
  {
   "cell_type": "markdown",
   "metadata": {},
   "source": [
    "### Task\n",
    "\n",
    "Using list comprehension, generate a list of cubes for numbers from 1 to 7."
   ]
  },
  {
   "cell_type": "code",
   "execution_count": 14,
   "metadata": {},
   "outputs": [],
   "source": [
    "# Place code here"
   ]
  },
  {
   "cell_type": "markdown",
   "metadata": {},
   "source": [
    "## Exercise 8: Exception Handling\n",
    "\n",
    "Python has built-in mechanisms for handling errors or exceptions. This allows the programmer to gracefully handle unexpected situations and prevent the program from crashing.\n",
    "\n",
    "Here's how you can handle a division by zero error using try-except:"
   ]
  },
  {
   "cell_type": "code",
   "execution_count": 12,
   "metadata": {},
   "outputs": [
    {
     "name": "stdout",
     "output_type": "stream",
     "text": [
      "Cannot divide by zero!\n"
     ]
    }
   ],
   "source": [
    "try:\n",
    "    result = 10 / 0\n",
    "except ZeroDivisionError:\n",
    "    print(\"Cannot divide by zero!\")"
   ]
  },
  {
   "cell_type": "markdown",
   "metadata": {},
   "source": [
    "### Task\n",
    "\n",
    "Write a piece of code that tries to access a key that doesn't exist in a dictionary, and handle the resulting KeyError exception gracefully."
   ]
  },
  {
   "cell_type": "code",
   "execution_count": 4,
   "metadata": {},
   "outputs": [],
   "source": [
    "# Place code here"
   ]
  },
  {
   "cell_type": "markdown",
   "metadata": {},
   "source": [
    "# Pandas Exercises"
   ]
  },
  {
   "cell_type": "markdown",
   "metadata": {},
   "source": [
    "Pandas is a powerful and popular data analysis library for Python. It provides data structures for efficiently storing large datasets and tools for reshaping, aggregating, merging, and summarizing data.\n",
    "\n",
    "In order to work with Pandas, it's helpful to have a little sample data to work with.  Execute the following cell to generate some \"fake\" data.  This will create a new Pandas DataFrame and assign it to a variable `df`.\n",
    "\n",
    "You *must* execute this cell for the following exercises to work correctly."
   ]
  },
  {
   "cell_type": "code",
   "execution_count": 53,
   "metadata": {},
   "outputs": [
    {
     "data": {
      "text/html": [
       "<div>\n",
       "<style scoped>\n",
       "    .dataframe tbody tr th:only-of-type {\n",
       "        vertical-align: middle;\n",
       "    }\n",
       "\n",
       "    .dataframe tbody tr th {\n",
       "        vertical-align: top;\n",
       "    }\n",
       "\n",
       "    .dataframe thead th {\n",
       "        text-align: right;\n",
       "    }\n",
       "</style>\n",
       "<table border=\"1\" class=\"dataframe\">\n",
       "  <thead>\n",
       "    <tr style=\"text-align: right;\">\n",
       "      <th></th>\n",
       "      <th>Price</th>\n",
       "      <th>Region</th>\n",
       "      <th>Product</th>\n",
       "      <th>Quantity Sold</th>\n",
       "      <th>Sales Rep</th>\n",
       "      <th>Date</th>\n",
       "    </tr>\n",
       "  </thead>\n",
       "  <tbody>\n",
       "    <tr>\n",
       "      <th>0</th>\n",
       "      <td>43.708611</td>\n",
       "      <td>W</td>\n",
       "      <td>Smartphone</td>\n",
       "      <td>40.0</td>\n",
       "      <td>Bob</td>\n",
       "      <td>2022-01-19</td>\n",
       "    </tr>\n",
       "    <tr>\n",
       "      <th>1</th>\n",
       "      <td>95.564288</td>\n",
       "      <td>SW</td>\n",
       "      <td>Smartphone</td>\n",
       "      <td>44.0</td>\n",
       "      <td>Grace</td>\n",
       "      <td>2022-01-19</td>\n",
       "    </tr>\n",
       "    <tr>\n",
       "      <th>2</th>\n",
       "      <td>75.879455</td>\n",
       "      <td>SE</td>\n",
       "      <td>Smartwatch</td>\n",
       "      <td>44.0</td>\n",
       "      <td>Hannah</td>\n",
       "      <td>2022-01-06</td>\n",
       "    </tr>\n",
       "    <tr>\n",
       "      <th>3</th>\n",
       "      <td>63.879264</td>\n",
       "      <td>NE</td>\n",
       "      <td>Smartphone</td>\n",
       "      <td>49.0</td>\n",
       "      <td>Hannah</td>\n",
       "      <td>2022-01-27</td>\n",
       "    </tr>\n",
       "    <tr>\n",
       "      <th>4</th>\n",
       "      <td>24.041678</td>\n",
       "      <td>W</td>\n",
       "      <td>Smartwatch</td>\n",
       "      <td>40.0</td>\n",
       "      <td>Bob</td>\n",
       "      <td>2022-01-03</td>\n",
       "    </tr>\n",
       "    <tr>\n",
       "      <th>...</th>\n",
       "      <td>...</td>\n",
       "      <td>...</td>\n",
       "      <td>...</td>\n",
       "      <td>...</td>\n",
       "      <td>...</td>\n",
       "      <td>...</td>\n",
       "    </tr>\n",
       "    <tr>\n",
       "      <th>195</th>\n",
       "      <td>41.428862</td>\n",
       "      <td>SW</td>\n",
       "      <td>Smartwatch</td>\n",
       "      <td>10.0</td>\n",
       "      <td>Grace</td>\n",
       "      <td>2022-01-18</td>\n",
       "    </tr>\n",
       "    <tr>\n",
       "      <th>196</th>\n",
       "      <td>75.336011</td>\n",
       "      <td>S</td>\n",
       "      <td>Headphones</td>\n",
       "      <td>NaN</td>\n",
       "      <td>Eve</td>\n",
       "      <td>2022-01-16</td>\n",
       "    </tr>\n",
       "    <tr>\n",
       "      <th>197</th>\n",
       "      <td>90.739923</td>\n",
       "      <td>E</td>\n",
       "      <td>Laptop</td>\n",
       "      <td>28.0</td>\n",
       "      <td>Frank</td>\n",
       "      <td>2022-01-18</td>\n",
       "    </tr>\n",
       "    <tr>\n",
       "      <th>198</th>\n",
       "      <td>89.837778</td>\n",
       "      <td>SW</td>\n",
       "      <td>Desktop</td>\n",
       "      <td>15.0</td>\n",
       "      <td>David</td>\n",
       "      <td>2022-01-20</td>\n",
       "    </tr>\n",
       "    <tr>\n",
       "      <th>199</th>\n",
       "      <td>80.188799</td>\n",
       "      <td>N</td>\n",
       "      <td>Smartphone</td>\n",
       "      <td>23.0</td>\n",
       "      <td>Hannah</td>\n",
       "      <td>2022-01-20</td>\n",
       "    </tr>\n",
       "  </tbody>\n",
       "</table>\n",
       "<p>200 rows × 6 columns</p>\n",
       "</div>"
      ],
      "text/plain": [
       "         Price Region     Product  Quantity Sold Sales Rep       Date\n",
       "0    43.708611      W  Smartphone           40.0       Bob 2022-01-19\n",
       "1    95.564288     SW  Smartphone           44.0     Grace 2022-01-19\n",
       "2    75.879455     SE  Smartwatch           44.0    Hannah 2022-01-06\n",
       "3    63.879264     NE  Smartphone           49.0    Hannah 2022-01-27\n",
       "4    24.041678      W  Smartwatch           40.0       Bob 2022-01-03\n",
       "..         ...    ...         ...            ...       ...        ...\n",
       "195  41.428862     SW  Smartwatch           10.0     Grace 2022-01-18\n",
       "196  75.336011      S  Headphones            NaN       Eve 2022-01-16\n",
       "197  90.739923      E      Laptop           28.0     Frank 2022-01-18\n",
       "198  89.837778     SW     Desktop           15.0     David 2022-01-20\n",
       "199  80.188799      N  Smartphone           23.0    Hannah 2022-01-20\n",
       "\n",
       "[200 rows x 6 columns]"
      ]
     },
     "execution_count": 53,
     "metadata": {},
     "output_type": "execute_result"
    }
   ],
   "source": [
    "import random\n",
    "import pandas as pd\n",
    "import numpy as np\n",
    "\n",
    "# Set a random seed for reproducibility\n",
    "np.random.seed(42)\n",
    "\n",
    "# Generate sample data\n",
    "regions = ['NE', 'NW', 'SE', 'SW', 'S', 'N', 'E', 'W']\n",
    "data = {\n",
    "    'Price': np.random.uniform(10, 100, 200),\n",
    "    'Region': np.random.choice(regions, 200)\n",
    "}\n",
    "\n",
    "# Convert data to a pandas DataFrame\n",
    "df = pd.DataFrame(data)\n",
    "\n",
    "# Randomly generate \"Product\" data\n",
    "products = ['Laptop', 'Desktop', 'Tablet', 'Smartphone', 'Smartwatch', 'Headphones']\n",
    "product_data = [random.choice(products) for _ in range(200)]\n",
    "\n",
    "# Randomly generate \"Quantity Sold\" data\n",
    "quantity_data = [random.randint(1, 50) for _ in range(200)]\n",
    "\n",
    "# Randomly generate \"Sales Rep\" data\n",
    "sales_reps = ['Alice', 'Bob', 'Charlie', 'David', 'Eve', 'Frank', 'Grace', 'Hannah']\n",
    "sales_rep_data = [random.choice(sales_reps) for _ in range(200)]\n",
    "\n",
    "# Add these columns to the dataframe\n",
    "df['Product'] = product_data\n",
    "df['Quantity Sold'] = quantity_data\n",
    "df['Sales Rep'] = sales_rep_data\n",
    "\n",
    "# Add a date column\n",
    "from datetime import datetime, timedelta\n",
    "\n",
    "# Generate an uneven sequence of dates\n",
    "start_date = datetime(2022, 1, 1)\n",
    "date_range = [start_date + timedelta(days=random.randint(0,30)) for _ in range(df.shape[0])]\n",
    "\n",
    "# Make sure our generated dates don't exceed the end_date\n",
    "date_range = [date if date <= end_date else end_date for date in date_range]\n",
    "\n",
    "df['Date'] = date_range\n",
    "\n",
    "# Add some na's\n",
    "# Randomly select indices\n",
    "num_nans=3\n",
    "random_indices = df['Price'].sample(n=num_nans).index\n",
    "\n",
    "# Replace selected indices with NaN\n",
    "df.loc[random_indices, 'Price'] = np.nan\n",
    "\n",
    "random_indices = df['Quantity Sold'].sample(n=num_nans).index\n",
    "\n",
    "# Replace selected indices with NaN\n",
    "df.loc[random_indices, 'Quantity Sold'] = np.nan\n",
    "\n",
    "\n",
    "df"
   ]
  },
  {
   "cell_type": "markdown",
   "metadata": {},
   "source": [
    "## Exercise 1: Filtering Data\n",
    "\n",
    "Pandas allows for row selection using boolean indexing. This is similar to SQL's WHERE clause. You can filter rows based on column values.\n",
    "\n",
    "Here's how you filter data to select rows where Price > 30 and Region is 'NE':"
   ]
  },
  {
   "cell_type": "code",
   "execution_count": 54,
   "metadata": {},
   "outputs": [
    {
     "data": {
      "text/html": [
       "<div>\n",
       "<style scoped>\n",
       "    .dataframe tbody tr th:only-of-type {\n",
       "        vertical-align: middle;\n",
       "    }\n",
       "\n",
       "    .dataframe tbody tr th {\n",
       "        vertical-align: top;\n",
       "    }\n",
       "\n",
       "    .dataframe thead th {\n",
       "        text-align: right;\n",
       "    }\n",
       "</style>\n",
       "<table border=\"1\" class=\"dataframe\">\n",
       "  <thead>\n",
       "    <tr style=\"text-align: right;\">\n",
       "      <th></th>\n",
       "      <th>Price</th>\n",
       "      <th>Region</th>\n",
       "      <th>Product</th>\n",
       "      <th>Quantity Sold</th>\n",
       "      <th>Sales Rep</th>\n",
       "      <th>Date</th>\n",
       "    </tr>\n",
       "  </thead>\n",
       "  <tbody>\n",
       "    <tr>\n",
       "      <th>3</th>\n",
       "      <td>63.879264</td>\n",
       "      <td>NE</td>\n",
       "      <td>Smartphone</td>\n",
       "      <td>49.0</td>\n",
       "      <td>Hannah</td>\n",
       "      <td>2022-01-27</td>\n",
       "    </tr>\n",
       "    <tr>\n",
       "      <th>28</th>\n",
       "      <td>63.317311</td>\n",
       "      <td>NE</td>\n",
       "      <td>Laptop</td>\n",
       "      <td>24.0</td>\n",
       "      <td>Charlie</td>\n",
       "      <td>2022-01-08</td>\n",
       "    </tr>\n",
       "    <tr>\n",
       "      <th>30</th>\n",
       "      <td>64.679037</td>\n",
       "      <td>NE</td>\n",
       "      <td>Tablet</td>\n",
       "      <td>20.0</td>\n",
       "      <td>Eve</td>\n",
       "      <td>2022-01-26</td>\n",
       "    </tr>\n",
       "    <tr>\n",
       "      <th>63</th>\n",
       "      <td>42.107799</td>\n",
       "      <td>NE</td>\n",
       "      <td>Headphones</td>\n",
       "      <td>31.0</td>\n",
       "      <td>Charlie</td>\n",
       "      <td>2022-01-03</td>\n",
       "    </tr>\n",
       "    <tr>\n",
       "      <th>67</th>\n",
       "      <td>82.197728</td>\n",
       "      <td>NE</td>\n",
       "      <td>Tablet</td>\n",
       "      <td>8.0</td>\n",
       "      <td>Charlie</td>\n",
       "      <td>2022-01-10</td>\n",
       "    </tr>\n",
       "    <tr>\n",
       "      <th>78</th>\n",
       "      <td>42.261916</td>\n",
       "      <td>NE</td>\n",
       "      <td>Laptop</td>\n",
       "      <td>40.0</td>\n",
       "      <td>Bob</td>\n",
       "      <td>2022-01-11</td>\n",
       "    </tr>\n",
       "    <tr>\n",
       "      <th>88</th>\n",
       "      <td>89.849147</td>\n",
       "      <td>NE</td>\n",
       "      <td>Smartphone</td>\n",
       "      <td>35.0</td>\n",
       "      <td>Alice</td>\n",
       "      <td>2022-01-05</td>\n",
       "    </tr>\n",
       "    <tr>\n",
       "      <th>92</th>\n",
       "      <td>78.470654</td>\n",
       "      <td>NE</td>\n",
       "      <td>Laptop</td>\n",
       "      <td>41.0</td>\n",
       "      <td>Eve</td>\n",
       "      <td>2022-01-07</td>\n",
       "    </tr>\n",
       "    <tr>\n",
       "      <th>105</th>\n",
       "      <td>32.436301</td>\n",
       "      <td>NE</td>\n",
       "      <td>Smartphone</td>\n",
       "      <td>46.0</td>\n",
       "      <td>Frank</td>\n",
       "      <td>2022-01-10</td>\n",
       "    </tr>\n",
       "    <tr>\n",
       "      <th>110</th>\n",
       "      <td>36.077631</td>\n",
       "      <td>NE</td>\n",
       "      <td>Desktop</td>\n",
       "      <td>17.0</td>\n",
       "      <td>Eve</td>\n",
       "      <td>2022-01-15</td>\n",
       "    </tr>\n",
       "    <tr>\n",
       "      <th>130</th>\n",
       "      <td>47.566990</td>\n",
       "      <td>NE</td>\n",
       "      <td>Headphones</td>\n",
       "      <td>20.0</td>\n",
       "      <td>Hannah</td>\n",
       "      <td>2022-01-24</td>\n",
       "    </tr>\n",
       "    <tr>\n",
       "      <th>133</th>\n",
       "      <td>40.385365</td>\n",
       "      <td>NE</td>\n",
       "      <td>Laptop</td>\n",
       "      <td>1.0</td>\n",
       "      <td>David</td>\n",
       "      <td>2022-01-16</td>\n",
       "    </tr>\n",
       "    <tr>\n",
       "      <th>144</th>\n",
       "      <td>35.635644</td>\n",
       "      <td>NE</td>\n",
       "      <td>Tablet</td>\n",
       "      <td>23.0</td>\n",
       "      <td>Bob</td>\n",
       "      <td>2022-01-03</td>\n",
       "    </tr>\n",
       "    <tr>\n",
       "      <th>150</th>\n",
       "      <td>91.743930</td>\n",
       "      <td>NE</td>\n",
       "      <td>Smartphone</td>\n",
       "      <td>39.0</td>\n",
       "      <td>Charlie</td>\n",
       "      <td>2022-01-05</td>\n",
       "    </tr>\n",
       "    <tr>\n",
       "      <th>154</th>\n",
       "      <td>98.708541</td>\n",
       "      <td>NE</td>\n",
       "      <td>Smartphone</td>\n",
       "      <td>31.0</td>\n",
       "      <td>Hannah</td>\n",
       "      <td>2022-01-16</td>\n",
       "    </tr>\n",
       "    <tr>\n",
       "      <th>172</th>\n",
       "      <td>56.088375</td>\n",
       "      <td>NE</td>\n",
       "      <td>Headphones</td>\n",
       "      <td>31.0</td>\n",
       "      <td>Charlie</td>\n",
       "      <td>2022-01-23</td>\n",
       "    </tr>\n",
       "  </tbody>\n",
       "</table>\n",
       "</div>"
      ],
      "text/plain": [
       "         Price Region     Product  Quantity Sold Sales Rep       Date\n",
       "3    63.879264     NE  Smartphone           49.0    Hannah 2022-01-27\n",
       "28   63.317311     NE      Laptop           24.0   Charlie 2022-01-08\n",
       "30   64.679037     NE      Tablet           20.0       Eve 2022-01-26\n",
       "63   42.107799     NE  Headphones           31.0   Charlie 2022-01-03\n",
       "67   82.197728     NE      Tablet            8.0   Charlie 2022-01-10\n",
       "78   42.261916     NE      Laptop           40.0       Bob 2022-01-11\n",
       "88   89.849147     NE  Smartphone           35.0     Alice 2022-01-05\n",
       "92   78.470654     NE      Laptop           41.0       Eve 2022-01-07\n",
       "105  32.436301     NE  Smartphone           46.0     Frank 2022-01-10\n",
       "110  36.077631     NE     Desktop           17.0       Eve 2022-01-15\n",
       "130  47.566990     NE  Headphones           20.0    Hannah 2022-01-24\n",
       "133  40.385365     NE      Laptop            1.0     David 2022-01-16\n",
       "144  35.635644     NE      Tablet           23.0       Bob 2022-01-03\n",
       "150  91.743930     NE  Smartphone           39.0   Charlie 2022-01-05\n",
       "154  98.708541     NE  Smartphone           31.0    Hannah 2022-01-16\n",
       "172  56.088375     NE  Headphones           31.0   Charlie 2022-01-23"
      ]
     },
     "execution_count": 54,
     "metadata": {},
     "output_type": "execute_result"
    }
   ],
   "source": [
    "filtered_data = df[(df['Price'] > 30) & (df['Region'] == 'NE')]\n",
    "filtered_data"
   ]
  },
  {
   "cell_type": "markdown",
   "metadata": {},
   "source": [
    "### Task \n",
    "\n",
    "Use pandas to select rows where Price < 30 and the Region is one of \"S\" or \"SE\"."
   ]
  },
  {
   "cell_type": "code",
   "execution_count": 22,
   "metadata": {},
   "outputs": [],
   "source": [
    "#Place code here"
   ]
  },
  {
   "cell_type": "markdown",
   "metadata": {},
   "source": [
    "## Exercise 2: Applying Functions to Columns\n",
    "\n",
    "In Pandas, you can apply a function to a column using the apply() method. This is useful for transforming data or creating new columns based on existing ones.\n",
    "\n",
    "Here's how you create a new column called Discounted_Price that is 90% of the Price column:"
   ]
  },
  {
   "cell_type": "code",
   "execution_count": 55,
   "metadata": {},
   "outputs": [
    {
     "data": {
      "text/html": [
       "<div>\n",
       "<style scoped>\n",
       "    .dataframe tbody tr th:only-of-type {\n",
       "        vertical-align: middle;\n",
       "    }\n",
       "\n",
       "    .dataframe tbody tr th {\n",
       "        vertical-align: top;\n",
       "    }\n",
       "\n",
       "    .dataframe thead th {\n",
       "        text-align: right;\n",
       "    }\n",
       "</style>\n",
       "<table border=\"1\" class=\"dataframe\">\n",
       "  <thead>\n",
       "    <tr style=\"text-align: right;\">\n",
       "      <th></th>\n",
       "      <th>Price</th>\n",
       "      <th>Region</th>\n",
       "      <th>Product</th>\n",
       "      <th>Quantity Sold</th>\n",
       "      <th>Sales Rep</th>\n",
       "      <th>Date</th>\n",
       "      <th>Discounted_Price</th>\n",
       "    </tr>\n",
       "  </thead>\n",
       "  <tbody>\n",
       "    <tr>\n",
       "      <th>0</th>\n",
       "      <td>43.708611</td>\n",
       "      <td>W</td>\n",
       "      <td>Smartphone</td>\n",
       "      <td>40.0</td>\n",
       "      <td>Bob</td>\n",
       "      <td>2022-01-19</td>\n",
       "      <td>39.337750</td>\n",
       "    </tr>\n",
       "    <tr>\n",
       "      <th>1</th>\n",
       "      <td>95.564288</td>\n",
       "      <td>SW</td>\n",
       "      <td>Smartphone</td>\n",
       "      <td>44.0</td>\n",
       "      <td>Grace</td>\n",
       "      <td>2022-01-19</td>\n",
       "      <td>86.007859</td>\n",
       "    </tr>\n",
       "    <tr>\n",
       "      <th>2</th>\n",
       "      <td>75.879455</td>\n",
       "      <td>SE</td>\n",
       "      <td>Smartwatch</td>\n",
       "      <td>44.0</td>\n",
       "      <td>Hannah</td>\n",
       "      <td>2022-01-06</td>\n",
       "      <td>68.291509</td>\n",
       "    </tr>\n",
       "    <tr>\n",
       "      <th>3</th>\n",
       "      <td>63.879264</td>\n",
       "      <td>NE</td>\n",
       "      <td>Smartphone</td>\n",
       "      <td>49.0</td>\n",
       "      <td>Hannah</td>\n",
       "      <td>2022-01-27</td>\n",
       "      <td>57.491337</td>\n",
       "    </tr>\n",
       "    <tr>\n",
       "      <th>4</th>\n",
       "      <td>24.041678</td>\n",
       "      <td>W</td>\n",
       "      <td>Smartwatch</td>\n",
       "      <td>40.0</td>\n",
       "      <td>Bob</td>\n",
       "      <td>2022-01-03</td>\n",
       "      <td>21.637510</td>\n",
       "    </tr>\n",
       "    <tr>\n",
       "      <th>...</th>\n",
       "      <td>...</td>\n",
       "      <td>...</td>\n",
       "      <td>...</td>\n",
       "      <td>...</td>\n",
       "      <td>...</td>\n",
       "      <td>...</td>\n",
       "      <td>...</td>\n",
       "    </tr>\n",
       "    <tr>\n",
       "      <th>195</th>\n",
       "      <td>41.428862</td>\n",
       "      <td>SW</td>\n",
       "      <td>Smartwatch</td>\n",
       "      <td>10.0</td>\n",
       "      <td>Grace</td>\n",
       "      <td>2022-01-18</td>\n",
       "      <td>37.285976</td>\n",
       "    </tr>\n",
       "    <tr>\n",
       "      <th>196</th>\n",
       "      <td>75.336011</td>\n",
       "      <td>S</td>\n",
       "      <td>Headphones</td>\n",
       "      <td>NaN</td>\n",
       "      <td>Eve</td>\n",
       "      <td>2022-01-16</td>\n",
       "      <td>67.802410</td>\n",
       "    </tr>\n",
       "    <tr>\n",
       "      <th>197</th>\n",
       "      <td>90.739923</td>\n",
       "      <td>E</td>\n",
       "      <td>Laptop</td>\n",
       "      <td>28.0</td>\n",
       "      <td>Frank</td>\n",
       "      <td>2022-01-18</td>\n",
       "      <td>81.665931</td>\n",
       "    </tr>\n",
       "    <tr>\n",
       "      <th>198</th>\n",
       "      <td>89.837778</td>\n",
       "      <td>SW</td>\n",
       "      <td>Desktop</td>\n",
       "      <td>15.0</td>\n",
       "      <td>David</td>\n",
       "      <td>2022-01-20</td>\n",
       "      <td>80.854000</td>\n",
       "    </tr>\n",
       "    <tr>\n",
       "      <th>199</th>\n",
       "      <td>80.188799</td>\n",
       "      <td>N</td>\n",
       "      <td>Smartphone</td>\n",
       "      <td>23.0</td>\n",
       "      <td>Hannah</td>\n",
       "      <td>2022-01-20</td>\n",
       "      <td>72.169919</td>\n",
       "    </tr>\n",
       "  </tbody>\n",
       "</table>\n",
       "<p>200 rows × 7 columns</p>\n",
       "</div>"
      ],
      "text/plain": [
       "         Price Region     Product  Quantity Sold Sales Rep       Date  \\\n",
       "0    43.708611      W  Smartphone           40.0       Bob 2022-01-19   \n",
       "1    95.564288     SW  Smartphone           44.0     Grace 2022-01-19   \n",
       "2    75.879455     SE  Smartwatch           44.0    Hannah 2022-01-06   \n",
       "3    63.879264     NE  Smartphone           49.0    Hannah 2022-01-27   \n",
       "4    24.041678      W  Smartwatch           40.0       Bob 2022-01-03   \n",
       "..         ...    ...         ...            ...       ...        ...   \n",
       "195  41.428862     SW  Smartwatch           10.0     Grace 2022-01-18   \n",
       "196  75.336011      S  Headphones            NaN       Eve 2022-01-16   \n",
       "197  90.739923      E      Laptop           28.0     Frank 2022-01-18   \n",
       "198  89.837778     SW     Desktop           15.0     David 2022-01-20   \n",
       "199  80.188799      N  Smartphone           23.0    Hannah 2022-01-20   \n",
       "\n",
       "     Discounted_Price  \n",
       "0           39.337750  \n",
       "1           86.007859  \n",
       "2           68.291509  \n",
       "3           57.491337  \n",
       "4           21.637510  \n",
       "..                ...  \n",
       "195         37.285976  \n",
       "196         67.802410  \n",
       "197         81.665931  \n",
       "198         80.854000  \n",
       "199         72.169919  \n",
       "\n",
       "[200 rows x 7 columns]"
      ]
     },
     "execution_count": 55,
     "metadata": {},
     "output_type": "execute_result"
    }
   ],
   "source": [
    "df['Discounted_Price'] = df['Price'].apply(lambda x: 0.9 * x)\n",
    "df"
   ]
  },
  {
   "cell_type": "markdown",
   "metadata": {},
   "source": [
    "### Task \n",
    "Create a new column called Taxed_Price that adds 10% to the Price column."
   ]
  },
  {
   "cell_type": "code",
   "execution_count": 24,
   "metadata": {},
   "outputs": [],
   "source": [
    "# Place code here\n"
   ]
  },
  {
   "cell_type": "markdown",
   "metadata": {},
   "source": [
    "## Exercise 3: Grouping and Summarizing Data\n",
    "\n",
    "Pandas provides the groupby method to group rows of data based on a column. This is similar to SQL's GROUP BY clause. Once data is grouped, you can aggregate it in various ways.\n",
    "\n",
    "Here's how you can find the average Price for each Region:"
   ]
  },
  {
   "cell_type": "code",
   "execution_count": 56,
   "metadata": {},
   "outputs": [
    {
     "data": {
      "text/plain": [
       "Region\n",
       "E     61.825292\n",
       "N     55.245369\n",
       "NE    46.189563\n",
       "NW    49.240748\n",
       "S     53.272173\n",
       "SE    55.251921\n",
       "SW    55.279360\n",
       "W     52.023716\n",
       "Name: Price, dtype: float64"
      ]
     },
     "execution_count": 56,
     "metadata": {},
     "output_type": "execute_result"
    }
   ],
   "source": [
    "average_price_per_region = df.groupby('Region')['Price'].mean()\n",
    "average_price_per_region"
   ]
  },
  {
   "cell_type": "markdown",
   "metadata": {},
   "source": [
    "### Task\n",
    "\n",
    "Find the total `Price` for each `Region`.\n"
   ]
  },
  {
   "cell_type": "code",
   "execution_count": null,
   "metadata": {},
   "outputs": [],
   "source": [
    "#Place code here"
   ]
  },
  {
   "cell_type": "markdown",
   "metadata": {},
   "source": [
    "## Exercise 4: Sorting Data\n",
    "You can sort data in pandas using the sort_values method. Sorting can be based on one or multiple columns.\n",
    "\n",
    "Here's how you sort the data based on the Price column in descending order:"
   ]
  },
  {
   "cell_type": "code",
   "execution_count": 57,
   "metadata": {},
   "outputs": [
    {
     "name": "stdout",
     "output_type": "stream",
     "text": [
      "         Price Region     Product  Quantity Sold Sales Rep       Date  \\\n",
      "69   98.819824     SW     Desktop            2.0     Alice 2022-01-22   \n",
      "154  98.708541     NE  Smartphone           31.0    Hannah 2022-01-16   \n",
      "139  97.460387     NW     Desktop           21.0       Bob 2022-01-30   \n",
      "11   97.291887      W  Smartwatch            4.0    Hannah 2022-01-12   \n",
      "50   97.262616      N      Laptop           31.0       Eve 2022-01-27   \n",
      "\n",
      "     Discounted_Price  \n",
      "69          88.937842  \n",
      "154         88.837687  \n",
      "139         87.714349  \n",
      "11          87.562698  \n",
      "50          87.536355  \n"
     ]
    }
   ],
   "source": [
    "sorted_data = df.sort_values(by='Price', ascending=False)\n",
    "print(sorted_data.head())"
   ]
  },
  {
   "cell_type": "markdown",
   "metadata": {},
   "source": [
    "### Task\n",
    "\n",
    "Now, try sorting the data based on `Product` in ascending order and then by `Price` in descending order (for products with the same name)."
   ]
  },
  {
   "cell_type": "code",
   "execution_count": 10,
   "metadata": {},
   "outputs": [],
   "source": [
    "# Place code here"
   ]
  },
  {
   "cell_type": "markdown",
   "metadata": {},
   "source": [
    "## Exercise 5: Handling Missing Values\n",
    "\n",
    "Real-world data often has missing values. Pandas provides methods like fillna and dropna to handle them.\n",
    "\n",
    "To drop rows with any missing values:"
   ]
  },
  {
   "cell_type": "code",
   "execution_count": 58,
   "metadata": {},
   "outputs": [
    {
     "data": {
      "text/html": [
       "<div>\n",
       "<style scoped>\n",
       "    .dataframe tbody tr th:only-of-type {\n",
       "        vertical-align: middle;\n",
       "    }\n",
       "\n",
       "    .dataframe tbody tr th {\n",
       "        vertical-align: top;\n",
       "    }\n",
       "\n",
       "    .dataframe thead th {\n",
       "        text-align: right;\n",
       "    }\n",
       "</style>\n",
       "<table border=\"1\" class=\"dataframe\">\n",
       "  <thead>\n",
       "    <tr style=\"text-align: right;\">\n",
       "      <th></th>\n",
       "      <th>Price</th>\n",
       "      <th>Region</th>\n",
       "      <th>Product</th>\n",
       "      <th>Quantity Sold</th>\n",
       "      <th>Sales Rep</th>\n",
       "      <th>Date</th>\n",
       "      <th>Discounted_Price</th>\n",
       "    </tr>\n",
       "  </thead>\n",
       "  <tbody>\n",
       "    <tr>\n",
       "      <th>0</th>\n",
       "      <td>43.708611</td>\n",
       "      <td>W</td>\n",
       "      <td>Smartphone</td>\n",
       "      <td>40.0</td>\n",
       "      <td>Bob</td>\n",
       "      <td>2022-01-19</td>\n",
       "      <td>39.337750</td>\n",
       "    </tr>\n",
       "    <tr>\n",
       "      <th>1</th>\n",
       "      <td>95.564288</td>\n",
       "      <td>SW</td>\n",
       "      <td>Smartphone</td>\n",
       "      <td>44.0</td>\n",
       "      <td>Grace</td>\n",
       "      <td>2022-01-19</td>\n",
       "      <td>86.007859</td>\n",
       "    </tr>\n",
       "    <tr>\n",
       "      <th>2</th>\n",
       "      <td>75.879455</td>\n",
       "      <td>SE</td>\n",
       "      <td>Smartwatch</td>\n",
       "      <td>44.0</td>\n",
       "      <td>Hannah</td>\n",
       "      <td>2022-01-06</td>\n",
       "      <td>68.291509</td>\n",
       "    </tr>\n",
       "    <tr>\n",
       "      <th>3</th>\n",
       "      <td>63.879264</td>\n",
       "      <td>NE</td>\n",
       "      <td>Smartphone</td>\n",
       "      <td>49.0</td>\n",
       "      <td>Hannah</td>\n",
       "      <td>2022-01-27</td>\n",
       "      <td>57.491337</td>\n",
       "    </tr>\n",
       "    <tr>\n",
       "      <th>4</th>\n",
       "      <td>24.041678</td>\n",
       "      <td>W</td>\n",
       "      <td>Smartwatch</td>\n",
       "      <td>40.0</td>\n",
       "      <td>Bob</td>\n",
       "      <td>2022-01-03</td>\n",
       "      <td>21.637510</td>\n",
       "    </tr>\n",
       "    <tr>\n",
       "      <th>...</th>\n",
       "      <td>...</td>\n",
       "      <td>...</td>\n",
       "      <td>...</td>\n",
       "      <td>...</td>\n",
       "      <td>...</td>\n",
       "      <td>...</td>\n",
       "      <td>...</td>\n",
       "    </tr>\n",
       "    <tr>\n",
       "      <th>194</th>\n",
       "      <td>40.512681</td>\n",
       "      <td>SW</td>\n",
       "      <td>Tablet</td>\n",
       "      <td>41.0</td>\n",
       "      <td>Hannah</td>\n",
       "      <td>2022-01-09</td>\n",
       "      <td>36.461413</td>\n",
       "    </tr>\n",
       "    <tr>\n",
       "      <th>195</th>\n",
       "      <td>41.428862</td>\n",
       "      <td>SW</td>\n",
       "      <td>Smartwatch</td>\n",
       "      <td>10.0</td>\n",
       "      <td>Grace</td>\n",
       "      <td>2022-01-18</td>\n",
       "      <td>37.285976</td>\n",
       "    </tr>\n",
       "    <tr>\n",
       "      <th>197</th>\n",
       "      <td>90.739923</td>\n",
       "      <td>E</td>\n",
       "      <td>Laptop</td>\n",
       "      <td>28.0</td>\n",
       "      <td>Frank</td>\n",
       "      <td>2022-01-18</td>\n",
       "      <td>81.665931</td>\n",
       "    </tr>\n",
       "    <tr>\n",
       "      <th>198</th>\n",
       "      <td>89.837778</td>\n",
       "      <td>SW</td>\n",
       "      <td>Desktop</td>\n",
       "      <td>15.0</td>\n",
       "      <td>David</td>\n",
       "      <td>2022-01-20</td>\n",
       "      <td>80.854000</td>\n",
       "    </tr>\n",
       "    <tr>\n",
       "      <th>199</th>\n",
       "      <td>80.188799</td>\n",
       "      <td>N</td>\n",
       "      <td>Smartphone</td>\n",
       "      <td>23.0</td>\n",
       "      <td>Hannah</td>\n",
       "      <td>2022-01-20</td>\n",
       "      <td>72.169919</td>\n",
       "    </tr>\n",
       "  </tbody>\n",
       "</table>\n",
       "<p>194 rows × 7 columns</p>\n",
       "</div>"
      ],
      "text/plain": [
       "         Price Region     Product  Quantity Sold Sales Rep       Date  \\\n",
       "0    43.708611      W  Smartphone           40.0       Bob 2022-01-19   \n",
       "1    95.564288     SW  Smartphone           44.0     Grace 2022-01-19   \n",
       "2    75.879455     SE  Smartwatch           44.0    Hannah 2022-01-06   \n",
       "3    63.879264     NE  Smartphone           49.0    Hannah 2022-01-27   \n",
       "4    24.041678      W  Smartwatch           40.0       Bob 2022-01-03   \n",
       "..         ...    ...         ...            ...       ...        ...   \n",
       "194  40.512681     SW      Tablet           41.0    Hannah 2022-01-09   \n",
       "195  41.428862     SW  Smartwatch           10.0     Grace 2022-01-18   \n",
       "197  90.739923      E      Laptop           28.0     Frank 2022-01-18   \n",
       "198  89.837778     SW     Desktop           15.0     David 2022-01-20   \n",
       "199  80.188799      N  Smartphone           23.0    Hannah 2022-01-20   \n",
       "\n",
       "     Discounted_Price  \n",
       "0           39.337750  \n",
       "1           86.007859  \n",
       "2           68.291509  \n",
       "3           57.491337  \n",
       "4           21.637510  \n",
       "..                ...  \n",
       "194         36.461413  \n",
       "195         37.285976  \n",
       "197         81.665931  \n",
       "198         80.854000  \n",
       "199         72.169919  \n",
       "\n",
       "[194 rows x 7 columns]"
      ]
     },
     "execution_count": 58,
     "metadata": {},
     "output_type": "execute_result"
    }
   ],
   "source": [
    "cleaned_data = df.dropna()\n",
    "cleaned_data"
   ]
  },
  {
   "cell_type": "markdown",
   "metadata": {},
   "source": [
    "To fill missing values in the Price column with the mean price:"
   ]
  },
  {
   "cell_type": "code",
   "execution_count": 59,
   "metadata": {},
   "outputs": [
    {
     "data": {
      "text/html": [
       "<div>\n",
       "<style scoped>\n",
       "    .dataframe tbody tr th:only-of-type {\n",
       "        vertical-align: middle;\n",
       "    }\n",
       "\n",
       "    .dataframe tbody tr th {\n",
       "        vertical-align: top;\n",
       "    }\n",
       "\n",
       "    .dataframe thead th {\n",
       "        text-align: right;\n",
       "    }\n",
       "</style>\n",
       "<table border=\"1\" class=\"dataframe\">\n",
       "  <thead>\n",
       "    <tr style=\"text-align: right;\">\n",
       "      <th></th>\n",
       "      <th>Price</th>\n",
       "      <th>Region</th>\n",
       "      <th>Product</th>\n",
       "      <th>Quantity Sold</th>\n",
       "      <th>Sales Rep</th>\n",
       "      <th>Date</th>\n",
       "      <th>Discounted_Price</th>\n",
       "    </tr>\n",
       "  </thead>\n",
       "  <tbody>\n",
       "    <tr>\n",
       "      <th>0</th>\n",
       "      <td>43.708611</td>\n",
       "      <td>W</td>\n",
       "      <td>Smartphone</td>\n",
       "      <td>40.0</td>\n",
       "      <td>Bob</td>\n",
       "      <td>2022-01-19</td>\n",
       "      <td>39.337750</td>\n",
       "    </tr>\n",
       "    <tr>\n",
       "      <th>1</th>\n",
       "      <td>95.564288</td>\n",
       "      <td>SW</td>\n",
       "      <td>Smartphone</td>\n",
       "      <td>44.0</td>\n",
       "      <td>Grace</td>\n",
       "      <td>2022-01-19</td>\n",
       "      <td>86.007859</td>\n",
       "    </tr>\n",
       "    <tr>\n",
       "      <th>2</th>\n",
       "      <td>75.879455</td>\n",
       "      <td>SE</td>\n",
       "      <td>Smartwatch</td>\n",
       "      <td>44.0</td>\n",
       "      <td>Hannah</td>\n",
       "      <td>2022-01-06</td>\n",
       "      <td>68.291509</td>\n",
       "    </tr>\n",
       "    <tr>\n",
       "      <th>3</th>\n",
       "      <td>63.879264</td>\n",
       "      <td>NE</td>\n",
       "      <td>Smartphone</td>\n",
       "      <td>49.0</td>\n",
       "      <td>Hannah</td>\n",
       "      <td>2022-01-27</td>\n",
       "      <td>57.491337</td>\n",
       "    </tr>\n",
       "    <tr>\n",
       "      <th>4</th>\n",
       "      <td>24.041678</td>\n",
       "      <td>W</td>\n",
       "      <td>Smartwatch</td>\n",
       "      <td>40.0</td>\n",
       "      <td>Bob</td>\n",
       "      <td>2022-01-03</td>\n",
       "      <td>21.637510</td>\n",
       "    </tr>\n",
       "    <tr>\n",
       "      <th>...</th>\n",
       "      <td>...</td>\n",
       "      <td>...</td>\n",
       "      <td>...</td>\n",
       "      <td>...</td>\n",
       "      <td>...</td>\n",
       "      <td>...</td>\n",
       "      <td>...</td>\n",
       "    </tr>\n",
       "    <tr>\n",
       "      <th>195</th>\n",
       "      <td>41.428862</td>\n",
       "      <td>SW</td>\n",
       "      <td>Smartwatch</td>\n",
       "      <td>10.0</td>\n",
       "      <td>Grace</td>\n",
       "      <td>2022-01-18</td>\n",
       "      <td>37.285976</td>\n",
       "    </tr>\n",
       "    <tr>\n",
       "      <th>196</th>\n",
       "      <td>75.336011</td>\n",
       "      <td>S</td>\n",
       "      <td>Headphones</td>\n",
       "      <td>NaN</td>\n",
       "      <td>Eve</td>\n",
       "      <td>2022-01-16</td>\n",
       "      <td>67.802410</td>\n",
       "    </tr>\n",
       "    <tr>\n",
       "      <th>197</th>\n",
       "      <td>90.739923</td>\n",
       "      <td>E</td>\n",
       "      <td>Laptop</td>\n",
       "      <td>28.0</td>\n",
       "      <td>Frank</td>\n",
       "      <td>2022-01-18</td>\n",
       "      <td>81.665931</td>\n",
       "    </tr>\n",
       "    <tr>\n",
       "      <th>198</th>\n",
       "      <td>89.837778</td>\n",
       "      <td>SW</td>\n",
       "      <td>Desktop</td>\n",
       "      <td>15.0</td>\n",
       "      <td>David</td>\n",
       "      <td>2022-01-20</td>\n",
       "      <td>80.854000</td>\n",
       "    </tr>\n",
       "    <tr>\n",
       "      <th>199</th>\n",
       "      <td>80.188799</td>\n",
       "      <td>N</td>\n",
       "      <td>Smartphone</td>\n",
       "      <td>23.0</td>\n",
       "      <td>Hannah</td>\n",
       "      <td>2022-01-20</td>\n",
       "      <td>72.169919</td>\n",
       "    </tr>\n",
       "  </tbody>\n",
       "</table>\n",
       "<p>200 rows × 7 columns</p>\n",
       "</div>"
      ],
      "text/plain": [
       "         Price Region     Product  Quantity Sold Sales Rep       Date  \\\n",
       "0    43.708611      W  Smartphone           40.0       Bob 2022-01-19   \n",
       "1    95.564288     SW  Smartphone           44.0     Grace 2022-01-19   \n",
       "2    75.879455     SE  Smartwatch           44.0    Hannah 2022-01-06   \n",
       "3    63.879264     NE  Smartphone           49.0    Hannah 2022-01-27   \n",
       "4    24.041678      W  Smartwatch           40.0       Bob 2022-01-03   \n",
       "..         ...    ...         ...            ...       ...        ...   \n",
       "195  41.428862     SW  Smartwatch           10.0     Grace 2022-01-18   \n",
       "196  75.336011      S  Headphones            NaN       Eve 2022-01-16   \n",
       "197  90.739923      E      Laptop           28.0     Frank 2022-01-18   \n",
       "198  89.837778     SW     Desktop           15.0     David 2022-01-20   \n",
       "199  80.188799      N  Smartphone           23.0    Hannah 2022-01-20   \n",
       "\n",
       "     Discounted_Price  \n",
       "0           39.337750  \n",
       "1           86.007859  \n",
       "2           68.291509  \n",
       "3           57.491337  \n",
       "4           21.637510  \n",
       "..                ...  \n",
       "195         37.285976  \n",
       "196         67.802410  \n",
       "197         81.665931  \n",
       "198         80.854000  \n",
       "199         72.169919  \n",
       "\n",
       "[200 rows x 7 columns]"
      ]
     },
     "execution_count": 59,
     "metadata": {},
     "output_type": "execute_result"
    }
   ],
   "source": [
    "df['Price'].fillna(df['Price'].mean(), inplace=True)\n",
    "df"
   ]
  },
  {
   "cell_type": "markdown",
   "metadata": {},
   "source": [
    "### Task\n",
    "\n",
    "Find out if there are any missing values in our dataset and handle them appropriately."
   ]
  },
  {
   "cell_type": "code",
   "execution_count": 10,
   "metadata": {},
   "outputs": [],
   "source": [
    "# Place code here"
   ]
  },
  {
   "cell_type": "markdown",
   "metadata": {},
   "source": [
    "## Exercise 6: Creating Pivot Tables\n",
    "Pivot tables are used to summarize and analyze data. Pandas provides the pivot_table method to create them.\n",
    "\n",
    "To get the average Price of each Product for each Region:"
   ]
  },
  {
   "cell_type": "code",
   "execution_count": 60,
   "metadata": {},
   "outputs": [
    {
     "name": "stdout",
     "output_type": "stream",
     "text": [
      "Region              E          N         NE         NW          S         SE  \\\n",
      "Product                                                                        \n",
      "Desktop     58.576285  51.595900  38.649733  40.919323  41.637388  61.451460   \n",
      "Headphones  50.825050  57.964629  37.352733  52.350878  62.663243  49.613724   \n",
      "Laptop      70.683838  57.374606  50.481177  30.384620  65.573869  39.315025   \n",
      "Smartphone        NaN  87.371852  65.832738  55.616945  34.877558  66.784004   \n",
      "Smartwatch  57.802767  46.566497  12.691344  65.066761  60.265947  75.879455   \n",
      "Tablet      55.810033  55.442754  46.521274  55.929947  42.726664  53.599935   \n",
      "\n",
      "Region             SW          W  \n",
      "Product                           \n",
      "Desktop     57.352523  60.863785  \n",
      "Headphones  38.539560  58.722817  \n",
      "Laptop      59.566144  41.327834  \n",
      "Smartphone  79.494903  60.089863  \n",
      "Smartwatch  60.275368  56.764351  \n",
      "Tablet      36.066129  40.561719  \n"
     ]
    }
   ],
   "source": [
    "pivot = df.pivot_table(values='Price', index='Product', columns='Region', aggfunc='mean')\n",
    "print(pivot)"
   ]
  },
  {
   "cell_type": "markdown",
   "metadata": {},
   "source": [
    "Create a pivot table to get the total `Quantity Sold` of each `Product` for each `Sales Rep`."
   ]
  },
  {
   "cell_type": "code",
   "execution_count": 12,
   "metadata": {},
   "outputs": [],
   "source": [
    "# Place code here"
   ]
  },
  {
   "cell_type": "markdown",
   "metadata": {},
   "source": [
    "## Exercise 7: Merging DataFrames\n",
    "In Pandas, you can combine data from multiple DataFrames using methods like merge. This is similar to SQL's JOIN operation.\n",
    "\n",
    "For the sake of this example, I'm going to define an additional DataFrame, `product_details` with manufacturing details for each product, and then merge these two DataFrames on the `Product` column."
   ]
  },
  {
   "cell_type": "code",
   "execution_count": 61,
   "metadata": {},
   "outputs": [
    {
     "data": {
      "text/html": [
       "<div>\n",
       "<style scoped>\n",
       "    .dataframe tbody tr th:only-of-type {\n",
       "        vertical-align: middle;\n",
       "    }\n",
       "\n",
       "    .dataframe tbody tr th {\n",
       "        vertical-align: top;\n",
       "    }\n",
       "\n",
       "    .dataframe thead th {\n",
       "        text-align: right;\n",
       "    }\n",
       "</style>\n",
       "<table border=\"1\" class=\"dataframe\">\n",
       "  <thead>\n",
       "    <tr style=\"text-align: right;\">\n",
       "      <th></th>\n",
       "      <th>Price</th>\n",
       "      <th>Region</th>\n",
       "      <th>Product</th>\n",
       "      <th>Quantity Sold</th>\n",
       "      <th>Sales Rep</th>\n",
       "      <th>Date</th>\n",
       "      <th>Discounted_Price</th>\n",
       "      <th>Manufacturer</th>\n",
       "      <th>Category</th>\n",
       "    </tr>\n",
       "  </thead>\n",
       "  <tbody>\n",
       "    <tr>\n",
       "      <th>0</th>\n",
       "      <td>43.708611</td>\n",
       "      <td>W</td>\n",
       "      <td>Smartphone</td>\n",
       "      <td>40.0</td>\n",
       "      <td>Bob</td>\n",
       "      <td>2022-01-19</td>\n",
       "      <td>39.337750</td>\n",
       "      <td>CompanyA</td>\n",
       "      <td>Mobile</td>\n",
       "    </tr>\n",
       "    <tr>\n",
       "      <th>1</th>\n",
       "      <td>95.564288</td>\n",
       "      <td>SW</td>\n",
       "      <td>Smartphone</td>\n",
       "      <td>44.0</td>\n",
       "      <td>Grace</td>\n",
       "      <td>2022-01-19</td>\n",
       "      <td>86.007859</td>\n",
       "      <td>CompanyA</td>\n",
       "      <td>Mobile</td>\n",
       "    </tr>\n",
       "    <tr>\n",
       "      <th>2</th>\n",
       "      <td>63.879264</td>\n",
       "      <td>NE</td>\n",
       "      <td>Smartphone</td>\n",
       "      <td>49.0</td>\n",
       "      <td>Hannah</td>\n",
       "      <td>2022-01-27</td>\n",
       "      <td>57.491337</td>\n",
       "      <td>CompanyA</td>\n",
       "      <td>Mobile</td>\n",
       "    </tr>\n",
       "    <tr>\n",
       "      <th>3</th>\n",
       "      <td>87.955853</td>\n",
       "      <td>W</td>\n",
       "      <td>Smartphone</td>\n",
       "      <td>3.0</td>\n",
       "      <td>Alice</td>\n",
       "      <td>2022-01-13</td>\n",
       "      <td>79.160268</td>\n",
       "      <td>CompanyA</td>\n",
       "      <td>Mobile</td>\n",
       "    </tr>\n",
       "    <tr>\n",
       "      <th>4</th>\n",
       "      <td>11.852604</td>\n",
       "      <td>SE</td>\n",
       "      <td>Smartphone</td>\n",
       "      <td>43.0</td>\n",
       "      <td>Frank</td>\n",
       "      <td>2022-01-03</td>\n",
       "      <td>10.667344</td>\n",
       "      <td>CompanyA</td>\n",
       "      <td>Mobile</td>\n",
       "    </tr>\n",
       "    <tr>\n",
       "      <th>...</th>\n",
       "      <td>...</td>\n",
       "      <td>...</td>\n",
       "      <td>...</td>\n",
       "      <td>...</td>\n",
       "      <td>...</td>\n",
       "      <td>...</td>\n",
       "      <td>...</td>\n",
       "      <td>...</td>\n",
       "      <td>...</td>\n",
       "    </tr>\n",
       "    <tr>\n",
       "      <th>195</th>\n",
       "      <td>63.180365</td>\n",
       "      <td>E</td>\n",
       "      <td>Tablet</td>\n",
       "      <td>1.0</td>\n",
       "      <td>Eve</td>\n",
       "      <td>2022-01-25</td>\n",
       "      <td>56.862328</td>\n",
       "      <td>CompanyC</td>\n",
       "      <td>Computing</td>\n",
       "    </tr>\n",
       "    <tr>\n",
       "      <th>196</th>\n",
       "      <td>88.960542</td>\n",
       "      <td>NW</td>\n",
       "      <td>Tablet</td>\n",
       "      <td>27.0</td>\n",
       "      <td>David</td>\n",
       "      <td>2022-01-17</td>\n",
       "      <td>80.064488</td>\n",
       "      <td>CompanyC</td>\n",
       "      <td>Computing</td>\n",
       "    </tr>\n",
       "    <tr>\n",
       "      <th>197</th>\n",
       "      <td>59.968073</td>\n",
       "      <td>SE</td>\n",
       "      <td>Tablet</td>\n",
       "      <td>21.0</td>\n",
       "      <td>David</td>\n",
       "      <td>2022-01-04</td>\n",
       "      <td>53.971266</td>\n",
       "      <td>CompanyC</td>\n",
       "      <td>Computing</td>\n",
       "    </tr>\n",
       "    <tr>\n",
       "      <th>198</th>\n",
       "      <td>90.749418</td>\n",
       "      <td>W</td>\n",
       "      <td>Tablet</td>\n",
       "      <td>11.0</td>\n",
       "      <td>Eve</td>\n",
       "      <td>2022-01-22</td>\n",
       "      <td>81.674476</td>\n",
       "      <td>CompanyC</td>\n",
       "      <td>Computing</td>\n",
       "    </tr>\n",
       "    <tr>\n",
       "      <th>199</th>\n",
       "      <td>40.512681</td>\n",
       "      <td>SW</td>\n",
       "      <td>Tablet</td>\n",
       "      <td>41.0</td>\n",
       "      <td>Hannah</td>\n",
       "      <td>2022-01-09</td>\n",
       "      <td>36.461413</td>\n",
       "      <td>CompanyC</td>\n",
       "      <td>Computing</td>\n",
       "    </tr>\n",
       "  </tbody>\n",
       "</table>\n",
       "<p>200 rows × 9 columns</p>\n",
       "</div>"
      ],
      "text/plain": [
       "         Price Region     Product  Quantity Sold Sales Rep       Date  \\\n",
       "0    43.708611      W  Smartphone           40.0       Bob 2022-01-19   \n",
       "1    95.564288     SW  Smartphone           44.0     Grace 2022-01-19   \n",
       "2    63.879264     NE  Smartphone           49.0    Hannah 2022-01-27   \n",
       "3    87.955853      W  Smartphone            3.0     Alice 2022-01-13   \n",
       "4    11.852604     SE  Smartphone           43.0     Frank 2022-01-03   \n",
       "..         ...    ...         ...            ...       ...        ...   \n",
       "195  63.180365      E      Tablet            1.0       Eve 2022-01-25   \n",
       "196  88.960542     NW      Tablet           27.0     David 2022-01-17   \n",
       "197  59.968073     SE      Tablet           21.0     David 2022-01-04   \n",
       "198  90.749418      W      Tablet           11.0       Eve 2022-01-22   \n",
       "199  40.512681     SW      Tablet           41.0    Hannah 2022-01-09   \n",
       "\n",
       "     Discounted_Price Manufacturer   Category  \n",
       "0           39.337750     CompanyA     Mobile  \n",
       "1           86.007859     CompanyA     Mobile  \n",
       "2           57.491337     CompanyA     Mobile  \n",
       "3           79.160268     CompanyA     Mobile  \n",
       "4           10.667344     CompanyA     Mobile  \n",
       "..                ...          ...        ...  \n",
       "195         56.862328     CompanyC  Computing  \n",
       "196         80.064488     CompanyC  Computing  \n",
       "197         53.971266     CompanyC  Computing  \n",
       "198         81.674476     CompanyC  Computing  \n",
       "199         36.461413     CompanyC  Computing  \n",
       "\n",
       "[200 rows x 9 columns]"
      ]
     },
     "execution_count": 61,
     "metadata": {},
     "output_type": "execute_result"
    }
   ],
   "source": [
    "#Product details\n",
    "\n",
    "product_details = pd.DataFrame({\n",
    "    'Product': ['Laptop', 'Desktop', 'Tablet', 'Smartphone', 'Smartwatch', 'Headphones'],\n",
    "    'Manufacturer': ['CompanyA', 'CompanyB', 'CompanyC', 'CompanyA', 'CompanyD', 'CompanyB'],\n",
    "    'Category': ['Computing', 'Computing', 'Computing', 'Mobile', 'Mobile', 'Audio']\n",
    "})\n",
    "\n",
    "# Now merge\n",
    "merged_data = df.merge(product_details, on='Product')\n",
    "merged_data\n"
   ]
  },
  {
   "cell_type": "markdown",
   "metadata": {},
   "source": [
    "### Task\n",
    "\n",
    "Merge the following DataFrame with the original data (`df`) to get a table with sales rep info."
   ]
  },
  {
   "cell_type": "code",
   "execution_count": 15,
   "metadata": {},
   "outputs": [],
   "source": [
    "sales_rep_details = pd.DataFrame({\n",
    "    'Sales Rep': ['Alice', 'Bob', 'Charlie', 'David', 'Eve', 'Frank', 'Grace', 'Hannah'],\n",
    "    'Years of Service': [5, 3, 4, 2, 6, 1, 7, 3],\n",
    "    'Total Sales Revenue': [50000, 35000, 42000, 25000, 58000, 15000, 65000, 38000]\n",
    "})\n",
    "\n",
    "#Place your code here"
   ]
  },
  {
   "cell_type": "markdown",
   "metadata": {},
   "source": [
    "## Exercise 8: Data Aggregation\n",
    "\n",
    "Beyond basic operations like mean or sum, you can use the agg method in Pandas to perform multiple aggregations at once.\n",
    "\n",
    "To get the mean and standard deviation of Price for each Product:"
   ]
  },
  {
   "cell_type": "code",
   "execution_count": 62,
   "metadata": {},
   "outputs": [
    {
     "name": "stdout",
     "output_type": "stream",
     "text": [
      "                 mean        std\n",
      "Product                         \n",
      "Desktop     50.627772  28.946896\n",
      "Headphones  51.569849  23.748521\n",
      "Laptop      55.046407  23.691418\n",
      "Smartphone  64.943327  29.874425\n",
      "Smartwatch  53.323795  26.376154\n",
      "Tablet      47.890826  24.525220\n"
     ]
    }
   ],
   "source": [
    "aggregated_data = df.groupby('Product')['Price'].agg(['mean', 'std'])\n",
    "print(aggregated_data)"
   ]
  },
  {
   "cell_type": "markdown",
   "metadata": {},
   "source": [
    "### Task\n",
    "\n",
    "Find the minimum, maximum, and sum of Quantity Sold for each Sales Rep."
   ]
  },
  {
   "cell_type": "code",
   "execution_count": 17,
   "metadata": {},
   "outputs": [],
   "source": [
    "# Place code here"
   ]
  },
  {
   "cell_type": "markdown",
   "metadata": {},
   "source": [
    "## Exercise 9: Data Transformation\n",
    "Data often needs to be transformed before analysis. Pandas provides efficient ways to transform datasets.\n",
    "\n",
    "To normalize the Price column (zero mean and unit variance):\n"
   ]
  },
  {
   "cell_type": "code",
   "execution_count": 63,
   "metadata": {},
   "outputs": [
    {
     "data": {
      "text/html": [
       "<div>\n",
       "<style scoped>\n",
       "    .dataframe tbody tr th:only-of-type {\n",
       "        vertical-align: middle;\n",
       "    }\n",
       "\n",
       "    .dataframe tbody tr th {\n",
       "        vertical-align: top;\n",
       "    }\n",
       "\n",
       "    .dataframe thead th {\n",
       "        text-align: right;\n",
       "    }\n",
       "</style>\n",
       "<table border=\"1\" class=\"dataframe\">\n",
       "  <thead>\n",
       "    <tr style=\"text-align: right;\">\n",
       "      <th></th>\n",
       "      <th>Price</th>\n",
       "      <th>Region</th>\n",
       "      <th>Product</th>\n",
       "      <th>Quantity Sold</th>\n",
       "      <th>Sales Rep</th>\n",
       "      <th>Date</th>\n",
       "      <th>Discounted_Price</th>\n",
       "      <th>Normalized_Price</th>\n",
       "    </tr>\n",
       "  </thead>\n",
       "  <tbody>\n",
       "    <tr>\n",
       "      <th>0</th>\n",
       "      <td>43.708611</td>\n",
       "      <td>W</td>\n",
       "      <td>Smartphone</td>\n",
       "      <td>40.0</td>\n",
       "      <td>Bob</td>\n",
       "      <td>2022-01-19</td>\n",
       "      <td>39.337750</td>\n",
       "      <td>-0.366306</td>\n",
       "    </tr>\n",
       "    <tr>\n",
       "      <th>1</th>\n",
       "      <td>95.564288</td>\n",
       "      <td>SW</td>\n",
       "      <td>Smartphone</td>\n",
       "      <td>44.0</td>\n",
       "      <td>Grace</td>\n",
       "      <td>2022-01-19</td>\n",
       "      <td>86.007859</td>\n",
       "      <td>1.600756</td>\n",
       "    </tr>\n",
       "    <tr>\n",
       "      <th>2</th>\n",
       "      <td>75.879455</td>\n",
       "      <td>SE</td>\n",
       "      <td>Smartwatch</td>\n",
       "      <td>44.0</td>\n",
       "      <td>Hannah</td>\n",
       "      <td>2022-01-06</td>\n",
       "      <td>68.291509</td>\n",
       "      <td>0.854043</td>\n",
       "    </tr>\n",
       "    <tr>\n",
       "      <th>3</th>\n",
       "      <td>63.879264</td>\n",
       "      <td>NE</td>\n",
       "      <td>Smartphone</td>\n",
       "      <td>49.0</td>\n",
       "      <td>Hannah</td>\n",
       "      <td>2022-01-27</td>\n",
       "      <td>57.491337</td>\n",
       "      <td>0.398835</td>\n",
       "    </tr>\n",
       "    <tr>\n",
       "      <th>4</th>\n",
       "      <td>24.041678</td>\n",
       "      <td>W</td>\n",
       "      <td>Smartwatch</td>\n",
       "      <td>40.0</td>\n",
       "      <td>Bob</td>\n",
       "      <td>2022-01-03</td>\n",
       "      <td>21.637510</td>\n",
       "      <td>-1.112339</td>\n",
       "    </tr>\n",
       "    <tr>\n",
       "      <th>...</th>\n",
       "      <td>...</td>\n",
       "      <td>...</td>\n",
       "      <td>...</td>\n",
       "      <td>...</td>\n",
       "      <td>...</td>\n",
       "      <td>...</td>\n",
       "      <td>...</td>\n",
       "      <td>...</td>\n",
       "    </tr>\n",
       "    <tr>\n",
       "      <th>195</th>\n",
       "      <td>41.428862</td>\n",
       "      <td>SW</td>\n",
       "      <td>Smartwatch</td>\n",
       "      <td>10.0</td>\n",
       "      <td>Grace</td>\n",
       "      <td>2022-01-18</td>\n",
       "      <td>37.285976</td>\n",
       "      <td>-0.452784</td>\n",
       "    </tr>\n",
       "    <tr>\n",
       "      <th>196</th>\n",
       "      <td>75.336011</td>\n",
       "      <td>S</td>\n",
       "      <td>Headphones</td>\n",
       "      <td>NaN</td>\n",
       "      <td>Eve</td>\n",
       "      <td>2022-01-16</td>\n",
       "      <td>67.802410</td>\n",
       "      <td>0.833429</td>\n",
       "    </tr>\n",
       "    <tr>\n",
       "      <th>197</th>\n",
       "      <td>90.739923</td>\n",
       "      <td>E</td>\n",
       "      <td>Laptop</td>\n",
       "      <td>28.0</td>\n",
       "      <td>Frank</td>\n",
       "      <td>2022-01-18</td>\n",
       "      <td>81.665931</td>\n",
       "      <td>1.417751</td>\n",
       "    </tr>\n",
       "    <tr>\n",
       "      <th>198</th>\n",
       "      <td>89.837778</td>\n",
       "      <td>SW</td>\n",
       "      <td>Desktop</td>\n",
       "      <td>15.0</td>\n",
       "      <td>David</td>\n",
       "      <td>2022-01-20</td>\n",
       "      <td>80.854000</td>\n",
       "      <td>1.383530</td>\n",
       "    </tr>\n",
       "    <tr>\n",
       "      <th>199</th>\n",
       "      <td>80.188799</td>\n",
       "      <td>N</td>\n",
       "      <td>Smartphone</td>\n",
       "      <td>23.0</td>\n",
       "      <td>Hannah</td>\n",
       "      <td>2022-01-20</td>\n",
       "      <td>72.169919</td>\n",
       "      <td>1.017511</td>\n",
       "    </tr>\n",
       "  </tbody>\n",
       "</table>\n",
       "<p>200 rows × 8 columns</p>\n",
       "</div>"
      ],
      "text/plain": [
       "         Price Region     Product  Quantity Sold Sales Rep       Date  \\\n",
       "0    43.708611      W  Smartphone           40.0       Bob 2022-01-19   \n",
       "1    95.564288     SW  Smartphone           44.0     Grace 2022-01-19   \n",
       "2    75.879455     SE  Smartwatch           44.0    Hannah 2022-01-06   \n",
       "3    63.879264     NE  Smartphone           49.0    Hannah 2022-01-27   \n",
       "4    24.041678      W  Smartwatch           40.0       Bob 2022-01-03   \n",
       "..         ...    ...         ...            ...       ...        ...   \n",
       "195  41.428862     SW  Smartwatch           10.0     Grace 2022-01-18   \n",
       "196  75.336011      S  Headphones            NaN       Eve 2022-01-16   \n",
       "197  90.739923      E      Laptop           28.0     Frank 2022-01-18   \n",
       "198  89.837778     SW     Desktop           15.0     David 2022-01-20   \n",
       "199  80.188799      N  Smartphone           23.0    Hannah 2022-01-20   \n",
       "\n",
       "     Discounted_Price  Normalized_Price  \n",
       "0           39.337750         -0.366306  \n",
       "1           86.007859          1.600756  \n",
       "2           68.291509          0.854043  \n",
       "3           57.491337          0.398835  \n",
       "4           21.637510         -1.112339  \n",
       "..                ...               ...  \n",
       "195         37.285976         -0.452784  \n",
       "196         67.802410          0.833429  \n",
       "197         81.665931          1.417751  \n",
       "198         80.854000          1.383530  \n",
       "199         72.169919          1.017511  \n",
       "\n",
       "[200 rows x 8 columns]"
      ]
     },
     "execution_count": 63,
     "metadata": {},
     "output_type": "execute_result"
    }
   ],
   "source": [
    "df['Normalized_Price'] = (df['Price'] - df['Price'].mean()) / df['Price'].std()\n",
    "df"
   ]
  },
  {
   "cell_type": "markdown",
   "metadata": {},
   "source": [
    "### Task\n",
    "\n",
    "Create a new column that indicates if the Price is above the average price."
   ]
  },
  {
   "cell_type": "code",
   "execution_count": 20,
   "metadata": {},
   "outputs": [],
   "source": [
    "# Place code here"
   ]
  },
  {
   "cell_type": "markdown",
   "metadata": {},
   "source": [
    "# Graphing exercises"
   ]
  },
  {
   "cell_type": "markdown",
   "metadata": {},
   "source": [
    "## Exercise 1: Pie Chart\n",
    "Pie charts represent categories' proportions as segments of a circle. The arc length of each segment is proportional to the quantity it represents. It's useful for understanding the share of each category.\n",
    "\n"
   ]
  },
  {
   "cell_type": "code",
   "execution_count": 64,
   "metadata": {},
   "outputs": [
    {
     "data": {
      "image/png": "[encoded data removed]",
      "text/plain": [
       "<Figure size 640x480 with 1 Axes>"
      ]
     },
     "metadata": {},
     "output_type": "display_data"
    }
   ],
   "source": [
    "import matplotlib.pyplot as plt\n",
    "\n",
    "# Sample code to create a pie chart\n",
    "products = df['Product'].value_counts().index\n",
    "quantities = df['Product'].value_counts().values\n",
    "\n",
    "plt.pie(quantities, labels=products, autopct='%1.1f%%', startangle=90)\n",
    "plt.title(\"Total Sales for Each Product\")\n",
    "plt.axis('equal')  # Equal aspect ratio ensures that pie is drawn as a circle.\n",
    "plt.show()"
   ]
  },
  {
   "cell_type": "markdown",
   "metadata": {},
   "source": [
    "### Task\n",
    "\n",
    "Now, create a pie chart representing the share of sales for each sales representative."
   ]
  },
  {
   "cell_type": "code",
   "execution_count": null,
   "metadata": {},
   "outputs": [],
   "source": [
    "# Place code here"
   ]
  },
  {
   "cell_type": "markdown",
   "metadata": {},
   "source": [
    "## Exercise 2: Bar Graph\n",
    "Bar graphs represent data with rectangular bars with heights or lengths proportional to the values that they represent. They can be used both for discrete data sets and for continuous data sets.\n",
    "\n"
   ]
  },
  {
   "cell_type": "code",
   "execution_count": 65,
   "metadata": {},
   "outputs": [
    {
     "data": {
      "image/png": "[encoded data removed]",
      "text/plain": [
       "<Figure size 640x480 with 1 Axes>"
      ]
     },
     "metadata": {},
     "output_type": "display_data"
    }
   ],
   "source": [
    "products = df.groupby('Product')['Quantity Sold'].sum().index\n",
    "quantities = df.groupby('Product')['Quantity Sold'].sum().values\n",
    "\n",
    "plt.bar(products, quantities)\n",
    "plt.xlabel('Products')\n",
    "plt.ylabel('Quantity Sold')\n",
    "plt.title('Total Quantity Sold for Each Product')\n",
    "plt.show()"
   ]
  },
  {
   "cell_type": "markdown",
   "metadata": {},
   "source": [
    "### Task\n",
    "\n",
    "Now, create a bar graph showing the total sales (sum of Price) made by each sales representative."
   ]
  },
  {
   "cell_type": "code",
   "execution_count": 25,
   "metadata": {},
   "outputs": [],
   "source": [
    "# Place your code here"
   ]
  },
  {
   "cell_type": "markdown",
   "metadata": {},
   "source": [
    "## Exercise 3: Histogram\n",
    "Explain: Histograms provide an approximation of the distribution of numerical data. It's an estimate of the probability distribution of a continuous variable."
   ]
  },
  {
   "cell_type": "code",
   "execution_count": 66,
   "metadata": {},
   "outputs": [
    {
     "data": {
      "image/png": "[encoded data removed]",
      "text/plain": [
       "<Figure size 640x480 with 1 Axes>"
      ]
     },
     "metadata": {},
     "output_type": "display_data"
    }
   ],
   "source": [
    "plt.hist(df['Price'], bins=10, edgecolor='black')\n",
    "plt.xlabel('Price')\n",
    "plt.ylabel('Number of Sales')\n",
    "plt.title('Distribution of Sales Prices')\n",
    "plt.show()"
   ]
  },
  {
   "cell_type": "markdown",
   "metadata": {},
   "source": [
    "### Task\n",
    "\n",
    "Now, create a histogram to see the distribution of \"Quantity Sold\"."
   ]
  },
  {
   "cell_type": "code",
   "execution_count": 27,
   "metadata": {},
   "outputs": [],
   "source": [
    "# Place code here"
   ]
  },
  {
   "cell_type": "markdown",
   "metadata": {},
   "source": [
    "## Exercise 12: Line Graph\n",
    "\n",
    "Line graphs are a good way to display sequential data - for instance, data that has a time / date."
   ]
  },
  {
   "cell_type": "code",
   "execution_count": 67,
   "metadata": {},
   "outputs": [
    {
     "data": {
      "image/png": "[encoded data removed]",
      "text/plain": [
       "<Figure size 1400x800 with 1 Axes>"
      ]
     },
     "metadata": {},
     "output_type": "display_data"
    }
   ],
   "source": [
    "import matplotlib.pyplot as plt\n",
    "\n",
    "# First, group by day because some reps have multiple sales per day\n",
    "\n",
    "grouped_sales = df.groupby(['Sales Rep', 'Date']).sum().reset_index()\n",
    "\n",
    "# Now plot the grouped data\n",
    "\n",
    "plt.figure(figsize=(14,8))\n",
    "for rep in grouped_sales['Sales Rep'].unique():\n",
    "    rep_data = grouped_sales[grouped_sales['Sales Rep'] == rep]\n",
    "    plt.plot(rep_data['Date'], rep_data['Price'], label=rep)\n",
    "\n",
    "\n",
    "plt.title('Sales over Time per Sales Rep')\n",
    "plt.xlabel('Date')\n",
    "plt.ylabel('Price')\n",
    "plt.legend()\n",
    "plt.grid(True)\n",
    "plt.show()"
   ]
  },
  {
   "cell_type": "markdown",
   "metadata": {},
   "source": [
    "### Task\n",
    "\n",
    "Plot line graphs of total `Quantity Sold` by `Product`"
   ]
  },
  {
   "cell_type": "code",
   "execution_count": 68,
   "metadata": {},
   "outputs": [],
   "source": [
    "# Place code here"
   ]
  },
  {
   "cell_type": "code",
   "execution_count": 69,
   "metadata": {},
   "outputs": [
    {
     "data": {
      "image/png": "[encoded data removed]",
      "text/plain": [
       "<Figure size 640x480 with 1 Axes>"
      ]
     },
     "metadata": {},
     "output_type": "display_data"
    }
   ],
   "source": [
    "plt.scatter(df['Price'], df['Quantity Sold'], alpha=0.5)\n",
    "plt.xlabel('Price')\n",
    "plt.ylabel('Quantity Sold')\n",
    "plt.title('Scatter plot of Price vs Quantity Sold')\n",
    "plt.show()"
   ]
  },
  {
   "cell_type": "markdown",
   "metadata": {},
   "source": [
    "Note:  That is what fake data looks like!\n",
    "\n",
    "### Task\n",
    "\n",
    "Now, create a scatter plot to see the relationship between \"Quantity Sold\" and the number of sales (row count) made by each \"Sales Rep\". (Hint: You might want to use a groupby and aggregate to sum the quantities for each sales rep and get a count of the number of rows).\n"
   ]
  },
  {
   "cell_type": "code",
   "execution_count": 73,
   "metadata": {},
   "outputs": [],
   "source": [
    "# Place your code here"
   ]
  },
  {
   "cell_type": "markdown",
   "metadata": {},
   "source": []
  },
  {
   "cell_type": "markdown",
   "metadata": {},
   "source": [
    "That's it!  Nice work. :-)"
   ]
  },
  {
   "cell_type": "markdown",
   "metadata": {},
   "source": []
  }
 ],
 "metadata": {
  "kernelspec": {
   "display_name": "Python 3",
   "language": "python",
   "name": "python3"
  },
  "language_info": {
   "codemirror_mode": {
    "name": "ipython",
    "version": 3
   },
   "file_extension": ".py",
   "mimetype": "text/x-python",
   "name": "python",
   "nbconvert_exporter": "python",
   "pygments_lexer": "ipython3",
   "version": "3.10.8"
  },
  "orig_nbformat": 4
 },
 "nbformat": 4,
 "nbformat_minor": 2
}
